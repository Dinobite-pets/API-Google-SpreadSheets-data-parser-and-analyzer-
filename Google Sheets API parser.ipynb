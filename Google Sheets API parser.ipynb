{
 "cells": [
  {
   "cell_type": "markdown",
   "metadata": {
    "id": "kilnMAFvwPlm"
   },
   "source": [
    "**Это функция для сбора данных из Google Sheets, которая принимает три списки (данные с каждого листа в Google Sheets), определяет долги по платежам на указанную дату и сохраняет отчет в файл `report.txt`**"
   ]
  },
  {
   "cell_type": "code",
   "execution_count": 94,
   "metadata": {
    "executionInfo": {
     "elapsed": 3348,
     "status": "ok",
     "timestamp": 1736611856340,
     "user": {
      "displayName": "Ruslan Seifetdinov",
      "userId": "06532658047621846739"
     },
     "user_tz": -180
    },
    "id": "CFDewPXwxLoX"
   },
   "outputs": [],
   "source": [
    "import gspread # gspread используем для работы с Google Sheets API\n",
    "                # С его помощью можно создавать, редактировать и читать данные из таблиц.\n",
    "from oauth2client.service_account import ServiceAccountCredentials # Чтобы получить доступ к Google API, нужно использовать учетные данные службы.\n",
    "                                                                    # Для этого понадобится модуль oauth2client.service_account, который содержит класс ServiceAccountCredentials.\n",
    "                                                                    # Он и позволяет создавать объекты учетных данных службы для аутентификации.\n",
    "# файл creds.json, нужно будет передать в ServiceAccountCredentials.from_json_keyfile_name(), а затем передать все в gspread.authorize().\n",
    "# Указываем необходимые права доступа к таблицам\n",
    "scope = ['https://www.googleapis.com/auth/spreadsheets.readonly',\n",
    "        'https://www.googleapis.com/auth/drive']\n",
    "\n",
    "# Загружаем ключи аутентификации из файла json\n",
    "creds = ServiceAccountCredentials.from_json_keyfile_name('creds.json', scope)\n",
    "\n",
    "# Авторизуемся в Google Sheets API\n",
    "client = gspread.authorize(creds) #Теперь можем работать с Googdle Sheet прямо из Googe Colab.\n",
    "\n",
    "\n",
    "#Получаем список словарей-строк из Лист1, Лист2, Лист 3 (Google Sheets)\n",
    "sheet1 = client.open(\"Installments\").worksheet(\"Лист1\")\n",
    "sheet1_data = sheet1.get_all_records() #[{key1:value1},{key2:value2},{key3:value3}]\n",
    "\n",
    "sheet2 = client.open(\"Installments\").worksheet(\"Лист2\")\n",
    "sheet2_data = sheet2.get_all_records()\n",
    "\n",
    "sheet3 = client.open(\"Installments\").worksheet(\"Лист3\")\n",
    "sheet3_data = sheet3.get_all_records()\n",
    "\n",
    "# API ПОДКЛЮЧЕН И ДАННЫЕ ЗАКГРУЖЕННЫ\n",
    "# ТЕПЕРЬ САМА ФУНКЦИЯ\n",
    "def generate_report(sheet1, sheet2, sheet3):\n",
    "\n",
    "  #отфильтруем \"Лист 1\", оставив только записи с меткой \"Y\" в поле \"installment\"\n",
    "  sheet1_data_instmnt = []#создаем пустой список для добавления данных с меткой 'Y'\n",
    "  for row1 in sheet1_data:\n",
    "    if row1['installment'] =='Y':\n",
    "      sheet1_data_instmnt.append({**row1})\n",
    "\n",
    "  # РАСЧЕТ КОЛИЧЕСТВА ПРОШЕДШИХ ДНЕЙ С ДАТЫ ОЖИДАЕМОГО ПЛАТЕЖА ДО КОНТРОЛЬНОЙ ДАТЫ d1 = 01.03.2023\n",
    "  import math\n",
    "  from datetime import datetime\n",
    "  date1_str = '01.03.2024'#-Контрольная текущая дата\n",
    "  date1 = datetime.strptime(date1_str, '%d.%m.%Y')#создем дату как instance of datetime class\n",
    "\n",
    "  with open('debt_report.txt', 'w') as debt_list:\n",
    "    for row1 in sheet1_data_instmnt:\n",
    "      for row2 in sheet2_data:\n",
    "        if row1['id'] == row2['id']:# проверка реляции строки по id\n",
    "          #определяем есть ли долг\n",
    "          #рассчитываем кол-во дней с даты последнего платежа\n",
    "          date2_str = row2['last_payment_date'] #expected_payment_date\n",
    "          date2 = datetime.strptime(date2_str, '%d.%m.%Y')#создем дату как instance of datetime class\n",
    "          days = (date1 - date2).days #применяем метод класса для расчета количества дней\n",
    "         \n",
    "          days_ratio = floor(days / 180) #если  >= 1 значит прошло более 183 дн с даты последнего платежа и есть долг\n",
    "\n",
    "          if days_ratio >= 1: # - есть долг!\n",
    "            for row in sheet3_data: #ищем запись по id в таблице платежей\n",
    "              if row['id'] == row1['id']: # проверка реляции строки по id\n",
    "                debt = (row['left_to_pay'] - ((days_ratio * row['one-time_payment'] ) )) # рассчитываем сумму долга\n",
    "                if debt < 0:\n",
    "                  debt_str = f\"Клиент {row1['name']} - долг {row['left_to_pay']} рублей\"\n",
    "                  debt_list.write(debt_str + '\\n')\n",
    "\n",
    "                else:\n",
    "                  debt_str = f\"Клиент {row1['student_name']} - долг {(days_ratio * row['one-time_payment'])} рублей\"\n",
    "                  debt_list.write(debt_str + '\\n')\n",
    "\n",
    "  #ЭТО КОСТЫЛЬ - Удаляем последнюю пустую строку в файле\n",
    "  with open('debt_report.txt', \"r+\") as f:\n",
    "    # Переместите курсор в конец файла\n",
    "    f.seek(0, 2)\n",
    "\n",
    "    # Удалите последнюю строку путем усечения файла до размера курсора\n",
    "    f.truncate(f.tell() - 1)\n",
    "\n",
    "res = generate_report(sheet1, sheet2, sheet3)"
   ]
  }
 ],
 "metadata": {
  "colab": {
   "provenance": [
    {
     "file_id": "1rAjg2zQMWiASH_2mRmFve3GGCCRZaNd5",
     "timestamp": 1736333602609
    }
   ]
  },
  "kernelspec": {
   "display_name": "Python 3 (ipykernel)",
   "language": "python",
   "name": "python3"
  },
  "language_info": {
   "codemirror_mode": {
    "name": "ipython",
    "version": 3
   },
   "file_extension": ".py",
   "mimetype": "text/x-python",
   "name": "python",
   "nbconvert_exporter": "python",
   "pygments_lexer": "ipython3",
   "version": "3.12.4"
  }
 },
 "nbformat": 4,
 "nbformat_minor": 4
}
